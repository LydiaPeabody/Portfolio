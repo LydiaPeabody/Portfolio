{
 "cells": [
  {
   "cell_type": "markdown",
   "metadata": {},
   "source": [
    "<img src=\"http://imgur.com/1ZcRyrc.png\" style=\"float: left; margin: 15px; height: 80px\">\n",
    "\n",
    "# Project 1\n",
    "\n",
    "### Building \"Pokemon Stay\"\n",
    "\n",
    "---\n",
    "You are an analyst at a \"scrappy\" online gaming company that specializes in remakes of last year's fads.\n",
    "\n",
    "Your boss, who runs the product development team, is convinced that Pokemon Go's fatal flaw was that you had to actually move around outside. She has design mock-ups for a new game called Pokemon Stay: in this version players still need to move, but just from website to website. Pokemon gyms are now popular online destinations, and catching Pokemon in the \"wild\" simply requires browsing the internet for hours in the comfort of your home.\n",
    "\n",
    "She wants you to program a prototype version of the game, and analyze the planned content to help the team calibrate the design."
   ]
  },
  {
   "cell_type": "markdown",
   "metadata": {},
   "source": [
    "#### Package imports\n",
    "\n",
    "The pprint package below is the only package imported here, and it's not even strictly required to do any of the project. Printing python variables and objects with pprint can help to format them in a \"prettier\" way."
   ]
  },
  {
   "cell_type": "code",
   "execution_count": 2,
   "metadata": {},
   "outputs": [],
   "source": [
    "from pprint import pprint\n",
    "import numpy as np\n",
    "import matplotlib.pyplot as plt"
   ]
  },
  {
   "cell_type": "markdown",
   "metadata": {},
   "source": [
    "<img src=\"http://imgur.com/l5NasQj.png\" style=\"float: left; margin: 25px 15px 0px 0px; height: 25px\">\n",
    "\n",
    "## 1. Defining a player\n",
    "\n",
    "---\n",
    "\n",
    "The player variables are:\n",
    "\n",
    "    player_id : id code unique to each player (integer)\n",
    "    player_name : entered name of the player (string)\n",
    "    time_played : number of time played the game in minutes (float)\n",
    "    player_pokemon: the player's captured pokemon (dictionary)\n",
    "    gyms_visited: ids of the gyms that a player has visited (list)\n",
    "    \n",
    "Create the components for a player object by defining each of these variables. The dictionary and list variables should just be defined as empty; you can use any (correctly typed) values for the others."
   ]
  },
  {
   "cell_type": "code",
   "execution_count": 3,
   "metadata": {},
   "outputs": [
    {
     "name": "stdout",
     "output_type": "stream",
     "text": [
      "57\n"
     ]
    }
   ],
   "source": [
    "class Player:\n",
    "    def __init__(self, player_id, player_name, \n",
    "             time_played, player_pokemon, gyms_visited):\n",
    "        self.player_id = player_id\n",
    "        self.player_name = player_name\n",
    "        self.time_played = time_played\n",
    "        self.player_pokemon = player_pokemon\n",
    "        self.gyms_visited = gyms_visited\n",
    "\n",
    "p1 = Player(1, \"Tester\", 57, {}, [])\n",
    "print(p1.time_played)\n"
   ]
  },
  {
   "cell_type": "markdown",
   "metadata": {},
   "source": [
    "<img src=\"http://imgur.com/l5NasQj.png\" style=\"float: left; margin: 25px 15px 0px 0px; height: 25px\">\n",
    "\n",
    "## 2. Defining \"gym\" locations\n",
    "\n",
    "---\n",
    "\n",
    "As the sole programmer, Pokemon Stay will have to start small. To begin, there will be 10 different gym location websites on the internet. The gym locations are:\n",
    "\n",
    "    1. 'reddit.com'\n",
    "    2. 'amazon.com'\n",
    "    3. 'twitter.com'\n",
    "    4. 'linkedin.com'\n",
    "    5. 'ebay.com'\n",
    "    6. 'netflix.com'\n",
    "    7. 'amazon.com'\n",
    "    8. 'stackoverflow.com'\n",
    "    9. 'github.com'\n",
    "    10. 'quora.com'\n",
    "\n",
    "1. Set up a list of all the gym locations. This will be a list of strings.\n",
    "2. Append two of these locations to your player's list of visited gyms.\n",
    "3. Print the list."
   ]
  },
  {
   "cell_type": "code",
   "execution_count": 4,
   "metadata": {
    "scrolled": false
   },
   "outputs": [
    {
     "name": "stdout",
     "output_type": "stream",
     "text": [
      "['twitter.com', 'ebay.com']\n"
     ]
    }
   ],
   "source": [
    "gym_locations = ['reddit.com',\n",
    "    'amazon.com',\n",
    "    'twitter.com',\n",
    "    'linkedin.com',\n",
    "    'ebay.com',\n",
    "    'netflix.com',\n",
    "    'amazon.com',\n",
    "    'stackoverflow.com',\n",
    "    'github.com',\n",
    "    'quora.com']\n",
    "\n",
    "if gym_locations[2] not in p1.gyms_visited:\n",
    "    p1.gyms_visited.append(gym_locations[2])\n",
    "if gym_locations[4] not in p1.gyms_visited:\n",
    "    p1.gyms_visited.append(gym_locations[4])\n",
    "pprint(p1.gyms_visited)"
   ]
  },
  {
   "cell_type": "markdown",
   "metadata": {},
   "source": [
    "<img src=\"http://imgur.com/l5NasQj.png\" style=\"float: left; margin: 25px 15px 0px 0px; height: 25px\">\n",
    "\n",
    "## 3. Create a pokedex\n",
    "\n",
    "---\n",
    "\n",
    "We also need to create some pokemon to catch. Each pokemon will be defined by these variables:\n",
    "\n",
    "    pokemon_id : unique identifier for each pokemon (integer)\n",
    "    name : the name of the pokemon (string)\n",
    "    type : the category of pokemon (string)\n",
    "    hp : base hitpoints (integer)\n",
    "    attack : base attack (integer)\n",
    "    defense : base defense (integer)\n",
    "    special_attack : base special attack (integer)\n",
    "    special_defense : base sepecial defense (integer)\n",
    "    speed : base speed (integer)\n",
    "\n",
    "We are only going to create 3 different pokemon with these `pokemon_id` and `pokemon_name` values:\n",
    "\n",
    "    1 : 'charmander'\n",
    "    2 : 'squirtle'\n",
    "    3 : 'bulbasaur'\n",
    "\n",
    "Create a dictionary that will contain the pokemon. The keys of the dictionary will be the `pokemon_id` and the values will themselves dictionaries that contain the other pokemon variables. The structure of the pokedex dictionary will start like so:\n",
    "     \n",
    "     {\n",
    "         1: {\n",
    "                 'name':'charmander',\n",
    "                 'type':'fire',\n",
    "                 ...\n",
    "                 \n",
    "The `type` of charmander, squirtle, and bulbasaur should be `'fire'`, `'water'`, and `'poison'` respectively. The other values are up to you, make them anything you like!\n",
    "\n",
    "Print (or pretty print) the pokedex dictionary with the 3 pokemon."
   ]
  },
  {
   "cell_type": "code",
   "execution_count": 5,
   "metadata": {},
   "outputs": [
    {
     "name": "stdout",
     "output_type": "stream",
     "text": [
      "{1: {'attack': 7,\n",
      "     'defense': 7,\n",
      "     'hp': 7,\n",
      "     'name': 'charmander',\n",
      "     'special_attack': 7,\n",
      "     'special_defense': 7,\n",
      "     'speed': 7,\n",
      "     'type': 'fire'},\n",
      " 2: {'attack': 3,\n",
      "     'defense': 5,\n",
      "     'hp': 2,\n",
      "     'name': 'squirtle',\n",
      "     'special_attack': 6,\n",
      "     'special_defense': 7,\n",
      "     'speed': 8,\n",
      "     'type': 'water'},\n",
      " 3: {'attack': 2,\n",
      "     'defense': 3,\n",
      "     'hp': 9,\n",
      "     'name': 'bulbasaur',\n",
      "     'special_attack': 6,\n",
      "     'special_defense': 4,\n",
      "     'speed': 1,\n",
      "     'type': 'poison'}}\n"
     ]
    }
   ],
   "source": [
    "pokedex = {1 : {'name':'charmander', \n",
    "                'type':'fire',\n",
    "                'hp':7,\n",
    "                'attack':7,\n",
    "                'defense' : 7,\n",
    "                'special_attack' : 7,\n",
    "                'special_defense' : 7,\n",
    "                'speed' : 7},\n",
    "           2: {'name':'squirtle', \n",
    "                'type':'water',\n",
    "                'hp':2,\n",
    "                'attack':3,\n",
    "                'defense' : 5,\n",
    "                'special_attack' : 6,\n",
    "                'special_defense' : 7,\n",
    "                'speed' : 8},\n",
    "           3: {'name':'bulbasaur', \n",
    "                'type':'poison',\n",
    "                'hp':9,\n",
    "                'attack':2,\n",
    "                'defense' : 3,\n",
    "                'special_attack' : 6,\n",
    "                'special_defense' : 4,\n",
    "                'speed' : 1}}\n",
    "pprint(pokedex)"
   ]
  },
  {
   "cell_type": "markdown",
   "metadata": {},
   "source": [
    "<img src=\"http://imgur.com/l5NasQj.png\" style=\"float: left; margin: 25px 15px 0px 0px; height: 25px\">\n",
    "\n",
    "## 4. Create a data structure for players\n",
    "\n",
    "---\n",
    "\n",
    "### 4.1 \n",
    "\n",
    "In order to maintain a database of multiple players, create a dictionary that keeps track of players indexed by `player_id`. \n",
    "\n",
    "The keys of the dictionary will be `player_id` and values will be dictionaries containing each player's variables (from question 1). \n",
    "\n",
    "Construct the `players` dictionary and insert the player that you defined in question 1, then print `players`."
   ]
  },
  {
   "cell_type": "code",
   "execution_count": 6,
   "metadata": {},
   "outputs": [
    {
     "name": "stdout",
     "output_type": "stream",
     "text": [
      "{1: {'gyms_visited': ['twitter.com', 'ebay.com'],\n",
      "     'player_name': 'Tester',\n",
      "     'player_pokemon': {},\n",
      "     'time_played': 57}}\n"
     ]
    }
   ],
   "source": [
    "players = {}\n",
    "players[1]={'player_name':p1.player_name,\n",
    "            'time_played':p1.time_played,\n",
    "            'player_pokemon':p1.player_pokemon,\n",
    "            'gyms_visited':p1.gyms_visited}\n",
    "pprint(players)"
   ]
  },
  {
   "cell_type": "markdown",
   "metadata": {},
   "source": [
    "---\n",
    "\n",
    "### 4.2\n",
    "\n",
    "Create a new player with `player_id = 2` in the `players` dictionary. Leave the `'player_pokemon'` dictionary empty. Append `'alcatraz'` and `'pacific_beach'` to the `'gyms_visited'` list for player 2.\n",
    "\n",
    "The `'player_name'` and `'time_played'` values are up to you, but must be a string and float, respectively.\n",
    "\n",
    "Remember, the player_id is the key for the player in the players dictionary.\n",
    "\n",
    "Print the `players` dictionary with the new player inserted."
   ]
  },
  {
   "cell_type": "code",
   "execution_count": 7,
   "metadata": {},
   "outputs": [
    {
     "name": "stdout",
     "output_type": "stream",
     "text": [
      "{1: {'gyms_visited': ['twitter.com', 'ebay.com'],\n",
      "     'player_name': 'Tester',\n",
      "     'player_pokemon': {},\n",
      "     'time_played': 57},\n",
      " 2: {'gyms_visited': ['alcatraz', 'pacific_beach'],\n",
      "     'player_name': 'Tester2',\n",
      "     'player_pokemon': {},\n",
      "     'time_played': 32}}\n"
     ]
    }
   ],
   "source": [
    "p2 = Player(2, 'Tester2', 32, {}, [])\n",
    "if 'alcatraz' not in p2.gyms_visited:\n",
    "    p2.gyms_visited.append('alcatraz')\n",
    "if 'pacific_beach' not in p2.gyms_visited:\n",
    "    p2.gyms_visited.append('pacific_beach')\n",
    "players[2] = {'player_name':p2.player_name,\n",
    "            'time_played':p2.time_played,\n",
    "            'player_pokemon':p2.player_pokemon,\n",
    "            'gyms_visited':p2.gyms_visited}\n",
    "pprint(players)"
   ]
  },
  {
   "cell_type": "markdown",
   "metadata": {},
   "source": []
  },
  {
   "cell_type": "markdown",
   "metadata": {},
   "source": [
    "<img src=\"http://imgur.com/l5NasQj.png\" style=\"float: left; margin: 25px 15px 0px 0px; height: 25px\">\n",
    "\n",
    "## 5. Add captured pokemon for each player\n",
    "\n",
    "---\n",
    "\n",
    "The `'player_pokemon'` keyed dictionaries for each player keep track of which of the pokemon each player has.\n",
    "\n",
    "The keys of the `'player_pokemon'` dictionaries are the pokemon ids that correspond to the ids in the `pokedex` dictionary you created earlier. The values are integers specifying the stats for the pokemon.\n",
    "\n",
    "Give player 1 a squirtle. Give player 2 charmander and a bulbasaur.\n",
    "\n",
    "Print the players dictionary after adding the pokemon for each player.\n"
   ]
  },
  {
   "cell_type": "code",
   "execution_count": 8,
   "metadata": {},
   "outputs": [
    {
     "name": "stdout",
     "output_type": "stream",
     "text": [
      "{1: {'gyms_visited': ['twitter.com', 'ebay.com'],\n",
      "     'player_name': 'Tester',\n",
      "     'player_pokemon': {2: {'attack': 3,\n",
      "                            'defense': 5,\n",
      "                            'hp': 2,\n",
      "                            'name': 'squirtle',\n",
      "                            'special_attack': 6,\n",
      "                            'special_defense': 7,\n",
      "                            'speed': 8,\n",
      "                            'type': 'water'}},\n",
      "     'time_played': 57},\n",
      " 2: {'gyms_visited': ['alcatraz', 'pacific_beach'],\n",
      "     'player_name': 'Tester2',\n",
      "     'player_pokemon': {1: {'attack': 7,\n",
      "                            'defense': 7,\n",
      "                            'hp': 7,\n",
      "                            'name': 'charmander',\n",
      "                            'special_attack': 7,\n",
      "                            'special_defense': 7,\n",
      "                            'speed': 7,\n",
      "                            'type': 'fire'},\n",
      "                        3: {'attack': 2,\n",
      "                            'defense': 3,\n",
      "                            'hp': 9,\n",
      "                            'name': 'bulbasaur',\n",
      "                            'special_attack': 6,\n",
      "                            'special_defense': 4,\n",
      "                            'speed': 1,\n",
      "                            'type': 'poison'}},\n",
      "     'time_played': 32}}\n"
     ]
    }
   ],
   "source": [
    "if 2 not in p1.player_pokemon:\n",
    "    p1.player_pokemon[2] = pokedex[2]\n",
    "for a in [1,3]:\n",
    "    if a not in p2.player_pokemon:\n",
    "        p2.player_pokemon[a] = pokedex[a]\n",
    "\n",
    "pprint(players)\n"
   ]
  },
  {
   "cell_type": "markdown",
   "metadata": {},
   "source": [
    "\n",
    "\n",
    "## 6. What gyms have players visited?\n",
    "\n",
    "---\n",
    "<img src=\"http://imgur.com/l5NasQj.png\" style=\"float: left; margin: 25px 15px 0px 0px; height: 25px\">\n",
    "### 6.1\n",
    "\n",
    "Write a for-loop that:\n",
    "\n",
    "1. Iterates through the `pokemon_gyms` list of gym locations you defined before.\n",
    "2. For each gym, iterate through each player in the `players` dictionary with a second, internal for-loop.\n",
    "3. If the player has visited the gym, print out \"[player] has visited [gym location].\", filling in [player] and [gym location] with the current player's name and current gym location."
   ]
  },
  {
   "cell_type": "code",
   "execution_count": 9,
   "metadata": {},
   "outputs": [
    {
     "name": "stdout",
     "output_type": "stream",
     "text": [
      "Tester has visited twitter.com\n",
      "Tester has visited ebay.com\n"
     ]
    }
   ],
   "source": [
    "for gym in gym_locations:\n",
    "    for k in players.keys():\n",
    "        if gym in players[k]['gyms_visited']:\n",
    "            print(players[k]['player_name'], 'has visited', gym)\n",
    "        \n"
   ]
  },
  {
   "cell_type": "markdown",
   "metadata": {},
   "source": [
    "<img src=\"http://imgur.com/xDpSobf.png\" style=\"float: left; margin: 25px 15px 0px 0px; height: 25px\">\n",
    "### 6.2\n",
    "\n",
    "How many times did that loop run? If you have N gyms and also N players, how many times would it run as a function of N?\n",
    "\n",
    "Can you think of a more efficient way to accomplish the same thing? \n",
    "\n",
    "(You can write your answer as Markdown text.)"
   ]
  },
  {
   "cell_type": "markdown",
   "metadata": {
    "collapsed": true
   },
   "source": [
    "This function runs N squared times, if both players and gyms have N elements, because it must go through every element in both lists. Start the loop running from the gyms players have visited would mean it doesn't have to go through every gym in the list except when the gym is actually the last one in the list."
   ]
  },
  {
   "cell_type": "markdown",
   "metadata": {},
   "source": [
    "<img src=\"http://imgur.com/l5NasQj.png\" style=\"float: left; margin: 25px 15px 0px 0px; height: 25px\">\n",
    "\n",
    "## 7. Calculate player \"power\".\n",
    "\n",
    "---\n",
    "\n",
    "Define a function that will calculate a player's \"power\". Player power is defined as the sum of the base statistics all of their pokemon.\n",
    "\n",
    "Your function will:\n",
    "\n",
    "1. Accept the `players` dictionary, `pokedex` dictionary, and a player_id as arguments.\n",
    "2. For the specified player_id, look up that player's pokemon and their level(s).\n",
    "3. Find and aggregate the attack and defense values for each of the player's pokemon from the `pokedex` dictionary.\n",
    "4. Print \"[player name]'s power is [player power].\", where the player power is the sum of the base statistics for all of their pokemon.\n",
    "5. Return the player's power value.\n",
    "\n",
    "Print out the pokemon power for each of your players."
   ]
  },
  {
   "cell_type": "code",
   "execution_count": 10,
   "metadata": {},
   "outputs": [
    {
     "name": "stdout",
     "output_type": "stream",
     "text": [
      "31\n",
      "42\n"
     ]
    }
   ],
   "source": [
    "def player_power(players, pokedex, player_id):\n",
    "    power = 0\n",
    "    pokemon = players[player_id]['player_pokemon']\n",
    "    for i in pokemon:\n",
    "        for j in pokemon[i]:\n",
    "            if type(pokemon[i][j]) == int:\n",
    "                power += pokemon[i][j]\n",
    "        return power\n",
    "for key in players.keys():\n",
    "    print(player_power(players,pokedex,key))"
   ]
  },
  {
   "cell_type": "code",
   "execution_count": 11,
   "metadata": {},
   "outputs": [
    {
     "name": "stdout",
     "output_type": "stream",
     "text": [
      "31\n",
      "42\n"
     ]
    }
   ],
   "source": [
    "#observed that I calculated power directly from the player's pokemon dictionary, \n",
    "#so the pokedex is unnecessary for my function\n",
    "def player_power(players, player_id):\n",
    "    power = 0\n",
    "    pokemon = players[player_id]['player_pokemon']\n",
    "    for i in pokemon:\n",
    "        for j in pokemon[i]:\n",
    "            if type(pokemon[i][j]) == int:\n",
    "                power += pokemon[i][j]\n",
    "        return power\n",
    "for key in players.keys():\n",
    "    print(player_power(players,key))"
   ]
  },
  {
   "cell_type": "markdown",
   "metadata": {
    "collapsed": true
   },
   "source": [
    "<img src=\"http://imgur.com/l5NasQj.png\" style=\"float: left; margin: 25px 15px 0px 0px; height: 25px\">\n",
    "\n",
    "## 8. Load a pokedex file containing all the pokemon\n",
    "\n",
    "---\n",
    "\n",
    "### 8.1\n",
    "\n",
    "While you were putting together the prototype code, your colleagues were preparing a dataset of Pokemon and their attributes. (This was a rush job, so they may have picked some crazy values for some...)\n",
    "\n",
    "The code below loads information from a comma separated value (csv) file. You need to parse this string into a more useable format. The format of the string is:\n",
    "\n",
    "- Rows are separated by newline characters: \\n\n",
    "- Columns are separated by commas: ,\n",
    "- All cells in the csv are double quoted. Ex: \"PokedexNumber\" is the first cell of the first row.\n",
    "\n",
    "\n",
    "Using for-loops, create a list of lists where each list within the overall list is a row of the csv/matrix, and each element in that list is a cell in that row. Additional criteria:\n",
    "\n",
    "1. Quotes are removed from each cell item.\n",
    "2. Numeric column values are converted to floats.\n",
    "3. There are some cells that are empty and have no information. For these cells put a -1 value in place.\n",
    "\n",
    "Your end result is effectively a matrix. Each list in the outer list is a row, and the *j*th elements of list together form the *j*th column, which represents a data attribute. The first three lists in your pokedex list should look like this:\n",
    "\n",
    "    ['PokedexNumber', 'Name', 'Type', 'Total', 'HP', 'Attack', 'Defense', 'SpecialAttack', 'SpecialDefense', 'Speed']\n",
    "    [1.0, 'Bulbasaur', 'GrassPoison', 318.0, 45.0, 49.0, 49.0, 65.0, 65.0, 45.0]\n",
    "    [2.0, 'Ivysaur', 'GrassPoison', 405.0, 60.0, 62.0, 63.0, 80.0, 80.0, 60.0]"
   ]
  },
  {
   "cell_type": "code",
   "execution_count": 13,
   "metadata": {},
   "outputs": [],
   "source": [
    "# Code to read in pokedex info\n",
    "import csv \n",
    "\n",
    "pokedex_file = 'pokedex_basic.csv'\n",
    "with open(pokedex_file, 'r') as f:\n",
    "    raw_pd = list(csv.reader(f))\n",
    "\n",
    "# the pokedex string is assigned to the raw_pd variable"
   ]
  },
  {
   "cell_type": "code",
   "execution_count": 22,
   "metadata": {},
   "outputs": [
    {
     "name": "stdout",
     "output_type": "stream",
     "text": [
      "[['PokedexNumber',\n",
      "  'Name',\n",
      "  'Type',\n",
      "  'Total',\n",
      "  'HP',\n",
      "  'Attack',\n",
      "  'Defense',\n",
      "  'SpecialAttack',\n",
      "  'SpecialDefense',\n",
      "  'Speed'],\n",
      " [1.0, 'Bulbasaur', 'GrassPoison', 318.0, 45.0, 49.0, 49.0, 65.0, 65.0, 45.0],\n",
      " [2.0, 'Ivysaur', 'GrassPoison', 405.0, 60.0, 62.0, 63.0, 80.0, 80.0, 60.0]]\n"
     ]
    }
   ],
   "source": [
    "temp_str = ''\n",
    "temp_list = []\n",
    "clean_pd = []\n",
    "\n",
    "for column in raw_pd:\n",
    "    for item in column:\n",
    "        try:\n",
    "            item = float(item)\n",
    "        except:\n",
    "            pass\n",
    "        temp_list.append(item)\n",
    "        temp_str = ''\n",
    "    clean_pd.append(temp_list)\n",
    "    temp_list = []\n",
    "      \n",
    "\n",
    "pprint(clean_pd[0:3])\n"
   ]
  },
  {
   "cell_type": "markdown",
   "metadata": {},
   "source": [
    "<img src=\"http://imgur.com/xDpSobf.png\" style=\"float: left; margin: 25px 15px 0px 0px; height: 25px\">\n",
    "\n",
    "### 8.2 Parse the raw pokedex with list comprehensions\n",
    "\n",
    "---\n",
    "\n",
    "Perform the same parsing as above, but **using only a single list comprehension** instead of for loops. You may have nested list comprehensions within the main list comprehension! The output should be exactly the same."
   ]
  },
  {
   "cell_type": "code",
   "execution_count": 20,
   "metadata": {},
   "outputs": [
    {
     "name": "stdout",
     "output_type": "stream",
     "text": [
      "[['PokedexNumber', 'Name', 'Type', 'Total', 'HP', 'Attack', 'Defense', 'SpecialAttack', 'SpecialDefense', 'Speed'], ['01', 'Bulbasaur', 'GrassPoison', '318', '45', '49', '49', '65', '65', '45'], ['02', 'Ivysaur', 'GrassPoison', '405', '60', '62', '63', '80', '80', '60'], ['03', 'Venusaur', 'GrassPoison', '525', '80', '82', '83', '100', '100', '80'], ['03', 'VenusaurMegaVenusaur', 'GrassPoison', '625', '80', '100', '123', '122', '120', '80'], ['04', 'Charmander', 'Fire', '309', '39', '52', '43', '60', '50', '65'], ['05', 'Charmeleon', 'Fire', '405', '58', '64', '58', '80', '65', '80'], ['06', 'Charizard', 'FireFlying', '534', '78', '84', '78', '109', '85', '100'], ['06', 'CharizardMegaCharizardX', 'FireDragon', '634', '78', '130', '111', '130', '85', '100'], ['06', 'CharizardMegaCharizardY', 'FireFlying', '634', '78', '104', '78', '159', '115', '100']]\n"
     ]
    }
   ],
   "source": [
    "pokedex_file = 'pokedex_basic.csv'\n",
    "with open(pokedex_file, 'r') as f:\n",
    "    raw_pd2 = f.read()\n",
    "\n",
    "raw_pd3 = raw_pd2.replace(' ','').replace('\"','').replace('\\n',',')\n",
    "# when \\n replaced by , file loses first digit in IDnumber\n",
    "# when \\n replaced by other characters, Speed attached to Idnumber\n",
    "pd4 = []\n",
    "poke = []\n",
    "thing = ''\n",
    "counter = 0\n",
    "\n",
    "for char in raw_pd3:\n",
    "    #if char == '$':\n",
    "    if counter == 10:\n",
    "       # for item in poke:\n",
    "            #need to convert only strings to floats\n",
    "            \n",
    "        pd4.append(poke)\n",
    "        poke = []\n",
    "        counter = 0\n",
    "    elif char == ',':\n",
    "        poke.append(thing)\n",
    "        counter +=1\n",
    "        thing = ''\n",
    "    else:\n",
    "        thing += char\n",
    "\n",
    "        \n",
    "print(pd4[0:10])        \n"
   ]
  },
  {
   "cell_type": "markdown",
   "metadata": {},
   "source": [
    "<img src=\"http://imgur.com/l5NasQj.png\" style=\"float: left; margin: 25px 15px 0px 0px; height: 25px\">\n",
    "\n",
    "## 9. Write a function to generate the full pokedex\n",
    "\n",
    "---\n",
    "\n",
    "Write a function that recreates the pokedex you made before, but with the data read in from the full pokemon file. The `PokedexNumber` should be used as the `pokemon_id` key values for the dictionary of pokemon.\n",
    "\n",
    "Your function should:\n",
    "\n",
    "1. Take the parsed pokedex information you created above as an argument.\n",
    "2. Return a dictionary in the same format as your original pokedex you created before containing the information from the parsed full pokedex file.\n",
    "\n",
    "To test the function, print out the pokemon with id = 100."
   ]
  },
  {
   "cell_type": "code",
   "execution_count": 14,
   "metadata": {
    "scrolled": true
   },
   "outputs": [
    {
     "name": "stdout",
     "output_type": "stream",
     "text": [
      "{'Name': 'Voltorb', 'Type': 'Electric', 'Total': 330.0, 'HP': 40.0, 'Attack': 30.0, 'Defense': 50.0, 'SpecialAttack': 55.0, 'SpecialDefense': 55.0, 'Speed': 100.0}\n"
     ]
    }
   ],
   "source": [
    "def pokedex_generator(pm_file):\n",
    "    temp_dict = {}\n",
    "    pm = []\n",
    "    indices = ['Name', 'Type', 'Total', 'HP', 'Attack', 'Defense', 'SpecialAttack', 'SpecialDefense', 'Speed']\n",
    "    for i in range(1,len(clean_pd)):\n",
    "        pm = clean_pd[i][1:]\n",
    "        temp_dict[clean_pd[i][0]]=dict(zip(indices,pm))\n",
    "    return(temp_dict)\n",
    "\n",
    "new_pokedex = pokedex_generator(clean_pd)\n",
    "print(new_pokedex[100])\n",
    "\n"
   ]
  },
  {
   "cell_type": "markdown",
   "metadata": {},
   "source": [
    "<img src=\"http://i.imgur.com/GCAf1UX.png\" style=\"float: left; margin: 25px 15px 0px 0px; height: 25px\">\n",
    "\n",
    "## 10. Write a function to generate a \"filtered\" pokedex\n",
    "---\n",
    "Your function should:\n",
    "1. Take the parsed pokedex information you created above as an argument.\n",
    "1. Take a dictionary as a parameter with keys matching the features of the Pokedex, filtering by exact match for string type values, and/or filter continuous variables specified value that is greater than or equal to the dictionary key parameter.\n",
    "1. Return multiple elements from the Pokedex\n",
    "\n",
    "Example:\n",
    "\n",
    "```python\n",
    "\n",
    "# Only filter based on parameters passed\n",
    "filter_options = {\n",
    "    'Attack':   25,\n",
    "    'Defense':  30,\n",
    "    'Type':     'Electric'\n",
    "}\n",
    "\n",
    "# Return records with attack >= 24, defense >= 30, and type == \"Electric\"\n",
    "# Also anticipate that other paramters can also be passed such as \"SpecialAttack\", \"Speed\", etc.\n",
    "filtered_pokedex(pokedex_data, filter=filter_options)\n",
    "\n",
    "# Example output:\n",
    "# [{'Attack': 30.0,\n",
    "#  'Defense': 50.0,\n",
    "#  'HP': 40.0,\n",
    "#  'Name': 'Voltorb',\n",
    "#  'SpecialAttack': 55.0,\n",
    "#  'SpecialDefense': 55.0,\n",
    "#  'Speed': 100.0,\n",
    "#  'Total': 330.0,\n",
    "#  'Type': 'Electric'},\n",
    "#  {'Attack': 30.0,\n",
    "#  'Defense': 33.0,\n",
    "#  'HP': 32.0,\n",
    "#  'Name': 'Pikachu',\n",
    "#  'SpecialAttack': 55.0,\n",
    "#  'SpecialDefense': 55.0,\n",
    "#  'Speed': 100.0,\n",
    "#  'Total': 330.0,\n",
    "#  'Type': 'Electric'},\n",
    "#  ... etc\n",
    "#  ]\n",
    "\n",
    "```\n",
    "\n"
   ]
  },
  {
   "cell_type": "code",
   "execution_count": 15,
   "metadata": {},
   "outputs": [
    {
     "name": "stdout",
     "output_type": "stream",
     "text": [
      "The following pokemon have these features: {'Attack': 30, 'Type': 'Psychic'}\n",
      "Ignored the following, which are not pokemon characteristics: ['check']\n",
      "[{'Attack': 30.0,\n",
      "  'Defense': 50.0,\n",
      "  'HP': 45.0,\n",
      "  'Name': 'Chingling',\n",
      "  'SpecialAttack': 65.0,\n",
      "  'SpecialDefense': 50.0,\n",
      "  'Speed': 45.0,\n",
      "  'Total': 285.0,\n",
      "  'Type': 'Psychic'},\n",
      " {'Attack': 30.0,\n",
      "  'Defense': 50.0,\n",
      "  'HP': 45.0,\n",
      "  'Name': 'Gothita',\n",
      "  'SpecialAttack': 55.0,\n",
      "  'SpecialDefense': 65.0,\n",
      "  'Speed': 45.0,\n",
      "  'Total': 290.0,\n",
      "  'Type': 'Psychic'},\n",
      " {'Attack': 30.0,\n",
      "  'Defense': 40.0,\n",
      "  'HP': 45.0,\n",
      "  'Name': 'Solosis',\n",
      "  'SpecialAttack': 105.0,\n",
      "  'SpecialDefense': 50.0,\n",
      "  'Speed': 20.0,\n",
      "  'Total': 290.0,\n",
      "  'Type': 'Psychic'}]\n"
     ]
    }
   ],
   "source": [
    "def filtered_pd(filter_options, pd_file = new_pokedex):\n",
    "\n",
    "    filtered = []\n",
    "    good_filters = {f:filter_options[f] for f in filter_options if f in pd_file[1].keys()}\n",
    "    print('The following pokemon have these features:', good_filters)\n",
    "    bad_filters = [f for f in filter_options if f not in pd_file[1].keys()]\n",
    "    if bad_filters != []:\n",
    "        print('Ignored the following, which are not pokemon characteristics:', bad_filters)\n",
    " \n",
    "    #look at each pokemon\n",
    "    for item in pd_file: \n",
    "        temp_list = []\n",
    "        check = True\n",
    "        #check if each valid filter matches for that pokemon\n",
    "        for gf in good_filters:\n",
    "            if check == False:\n",
    "                break\n",
    "            if pd_file[item][gf] == good_filters[gf]:\n",
    "                temp_list.append(pd_file[item])\n",
    "                check = True\n",
    "            else:\n",
    "                check = False\n",
    "        if check == True:\n",
    "            filtered.append(pd_file[item])\n",
    "\n",
    "\n",
    "      #  filtered.append(temp_list)\n",
    "    return(filtered)\n",
    "\n",
    "        \n",
    "test_dict = filter_options = {\n",
    "    'Attack':30,\n",
    "    'check':'',\n",
    "    'Type': 'Psychic'\n",
    "\n",
    "}                \n",
    "pprint(filtered_pd(test_dict))\n"
   ]
  },
  {
   "cell_type": "markdown",
   "metadata": {
    "collapsed": true
   },
   "source": [
    "\n",
    "## 9. Descriptive statistics on the prototype pokedex\n",
    "\n",
    "<img src=\"http://imgur.com/l5NasQj.png\" style=\"float: left; margin: 25px 15px 0px 0px; height: 25px\">\n",
    "### 9.1\n",
    "\n",
    "What is the population mean and standard deviation of the \"Total\" attribute for all characters in the Pokedex?\n",
    "\n"
   ]
  },
  {
   "cell_type": "code",
   "execution_count": 16,
   "metadata": {},
   "outputs": [
    {
     "name": "stdout",
     "output_type": "stream",
     "text": [
      "424.9500693481276\n",
      "118.71177581751657\n"
     ]
    }
   ],
   "source": [
    "totals = [new_pokedex[i]['Total'] for i in new_pokedex]\n",
    "t_mean = np.mean(totals)\n",
    "t_std = np.std(totals)\n",
    "\n",
    "print(t_mean)\n",
    "print(t_std)\n"
   ]
  },
  {
   "cell_type": "markdown",
   "metadata": {},
   "source": [
    "<img src=\"http://imgur.com/l5NasQj.png\" style=\"float: left; margin: 25px 15px 0px 0px; height: 25px\">\n",
    "### 9.2\n",
    "\n",
    "The game is no fun if the characters are wildly unbalanced! Are any characters \"overpowered\", which we'll define as having a \"Total\" more than three standard deviations from the population mean?"
   ]
  },
  {
   "cell_type": "code",
   "execution_count": 26,
   "metadata": {},
   "outputs": [
    {
     "name": "stdout",
     "output_type": "stream",
     "text": [
      "No overpowered pokemon found.\n",
      "upper limit: 781.0853968006772\n",
      "max total power: 780.0\n",
      "lower limit: 68.81474189557792\n",
      "min total power: 180.0\n"
     ]
    }
   ],
   "source": [
    "llimit = t_mean - 3*t_std\n",
    "ulimit = t_mean + 3*t_std\n",
    "std3 = 3*t_std\n",
    "\n",
    "overpowered = [new_pokedex[i]['Name'] \n",
    "               for i in new_pokedex\n",
    "               if (abs(t_mean - new_pokedex[i]['Total']) > std3)]\n",
    "\n",
    "if overpowered != []:\n",
    "    print('The following pokemon are overpowered: ', overpowered)\n",
    "else:\n",
    "    print('No overpowered pokemon found.')\n",
    "print('upper limit:',ulimit)\n",
    "print('max total power:', np.max(totals))\n",
    "print('lower limit:', llimit)\n",
    "print('min total power:', np.min(totals))"
   ]
  },
  {
   "cell_type": "markdown",
   "metadata": {},
   "source": [
    "<img src=\"http://imgur.com/xDpSobf.png\" style=\"float: left; margin: 25px 15px 0px 0px; height: 25px\">\n",
    "\n",
    "## 10. Calibrate the frequency of Pokemon\n",
    "\n",
    "The design team wants you to make the powerful Pokemon rare, and the weaklings more common. How would you set the probability $p_i$ of finding Pokemon *i* each time a player visits a gym?\n",
    "\n",
    "Write a function that takes in a Pokedex number and returns a value $p_i$ for that character.\n",
    "\n",
    "Hint: there are many ways you could do this. What do _you_ think makes sense? Start with simplifying assumptions: for example, you could assume that the probabilities of encountering any two Pokemon on one visit to a gym are independent of each other."
   ]
  },
  {
   "cell_type": "code",
   "execution_count": 43,
   "metadata": {},
   "outputs": [
    {
     "name": "stdout",
     "output_type": "stream",
     "text": [
      "1.0424703952169005 10.11488285865015 9.702801062801987\n"
     ]
    }
   ],
   "source": [
    "#diffs = [((t_mean - new_pokedex[i]['Total']) / t_mean) for i in new_pokedex]\n",
    "\n",
    "def poke_prob(pd_id, pd_file = new_pokedex):\n",
    "    diff = (t_mean - new_pokedex[pd_id]['Total']) / t_mean\n",
    "    #scaled so high power are approx 10x less likely than low power\n",
    "    pi = (5**diff)*4\n",
    "    return(pi)\n",
    "\n",
    "probs = [poke_prob(i) for i in new_pokedex]\n",
    "print(min(probs),max(probs),(max(probs)/min(probs)))"
   ]
  },
  {
   "cell_type": "code",
   "execution_count": 44,
   "metadata": {},
   "outputs": [
    {
     "data": {
      "text/plain": [
       "Text(0.5, 0, 'Pokemon Frequency')"
      ]
     },
     "execution_count": 44,
     "metadata": {},
     "output_type": "execute_result"
    },
    {
     "data": {
      "image/png": "[encoded data removed]",
      "text/plain": [
       "<Figure size 432x288 with 1 Axes>"
      ]
     },
     "metadata": {
      "needs_background": "light"
     },
     "output_type": "display_data"
    }
   ],
   "source": [
    "plt.scatter(probs,totals)\n",
    "plt.ylabel('Pokemon Total Values')\n",
    "plt.xlabel('Pokemon Frequency')\n"
   ]
  }
 ],
 "metadata": {
  "anaconda-cloud": {},
  "kernelspec": {
   "display_name": "Python 3",
   "language": "python",
   "name": "python3"
  },
  "language_info": {
   "codemirror_mode": {
    "name": "ipython",
    "version": 3
   },
   "file_extension": ".py",
   "mimetype": "text/x-python",
   "name": "python",
   "nbconvert_exporter": "python",
   "pygments_lexer": "ipython3",
   "version": "3.7.3"
  },
  "varInspector": {
   "cols": {
    "lenName": 16,
    "lenType": 16,
    "lenVar": 40
   },
   "kernels_config": {
    "python": {
     "delete_cmd_postfix": "",
     "delete_cmd_prefix": "del ",
     "library": "var_list.py",
     "varRefreshCmd": "print(var_dic_list())"
    },
    "r": {
     "delete_cmd_postfix": ") ",
     "delete_cmd_prefix": "rm(",
     "library": "var_list.r",
     "varRefreshCmd": "cat(var_dic_list()) "
    }
   },
   "types_to_exclude": [
    "module",
    "function",
    "builtin_function_or_method",
    "instance",
    "_Feature"
   ],
   "window_display": false
  }
 },
 "nbformat": 4,
 "nbformat_minor": 1
}
